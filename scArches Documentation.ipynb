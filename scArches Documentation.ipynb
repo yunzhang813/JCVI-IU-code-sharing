{
 "cells": [
  {
   "cell_type": "markdown",
   "id": "01a83350",
   "metadata": {},
   "source": [
    "# scArches Annotation \n",
    "\n",
    "This tutorial is based off of: https://docs.scarches.org/en/latest/hlca_map_classify.html"
   ]
  },
  {
   "cell_type": "markdown",
   "id": "88a7bd88",
   "metadata": {},
   "source": [
    "### Setting up environment: "
   ]
  },
  {
   "cell_type": "code",
   "execution_count": null,
   "id": "3ddcc789",
   "metadata": {},
   "outputs": [],
   "source": [
    "import os\n",
    "import warnings\n",
    "warnings.simplefilter(action=\"ignore\", category=FutureWarning)\n",
    "warnings.simplefilter(action=\"ignore\", category=DeprecationWarning)\n",
    "warnings.simplefilter(action=\"ignore\", category=UserWarning)\n",
    "\n",
    "import sys\n",
    "import scanpy as sc\n",
    "import numpy as np\n",
    "import pandas as pd\n",
    "import scarches as sca\n",
    "import anndata as ad\n",
    "from scipy import sparse\n",
    "import gdown\n",
    "import gzip\n",
    "import shutil\n",
    "import urllib.request"
   ]
  },
  {
   "cell_type": "markdown",
   "id": "6fdafdf4",
   "metadata": {},
   "source": [
    "### Set directory paths"
   ]
  },
  {
   "cell_type": "code",
   "execution_count": null,
   "id": "33abdac8",
   "metadata": {},
   "outputs": [],
   "source": [
    "ref_model_dir_prefix = \".\"  # directory in which to store the reference model directory\n",
    "surgery_model_dir_prefix = \".\"  # directory in which to store the surgery model directory\n",
    "path_reference_emb = \"../data/hlca_core.h5ad\" # path to reference embedding to be created\n",
    "\n",
    "path_query_data = \"../../data/cellref/cellref_set1.h5ad\" ## CHANGE THIS to input test query data\n",
    "\n",
    "ref_model_dir = os.path.join(ref_model_dir_prefix, \"HLCA_reference_model\") # don't change this\n",
    "surgery_model_dir = os.path.join(surgery_model_dir_prefix, \"surgery_model\") # don't change this"
   ]
  },
  {
   "cell_type": "markdown",
   "id": "f3f7ee36",
   "metadata": {},
   "source": [
    "### Download reference data and reference model from Zenodo"
   ]
  },
  {
   "cell_type": "code",
   "execution_count": null,
   "id": "aedc6d9d",
   "metadata": {},
   "outputs": [],
   "source": [
    "# download reference model \n",
    "url = \"https://zenodo.org/record/7599104/files/HLCA_reference_model.zip\"\n",
    "output = \"HLCA_reference_model.zip\"\n",
    "gdown.download(url, output, quiet=False)\n",
    "shutil.unpack_archive(\"HLCA_reference_model.zip\", extract_dir=ref_model_dir_prefix)\n",
    "os.remove(output)\n",
    "\n",
    "# download embedding of HLCA reference (2.3 gb)\n",
    "url = \"https://zenodo.org/record/7599104/files/HLCA_full_v1.1_emb.h5ad\"\n",
    "output = path_reference_emb\n",
    "gdown.download(url, output, quiet=False)"
   ]
  },
  {
   "cell_type": "code",
   "execution_count": null,
   "id": "f9da3ff4",
   "metadata": {},
   "outputs": [],
   "source": [
    "# load reference embedding \n",
    "adata_ref = sc.read_h5ad(path_reference_emb)\n",
    "\n",
    "# subset to only HLCA core\n",
    "adata_ref = adata_ref[adata_ref.obs.core_or_extension == \"core\", :].copy()\n",
    "\n",
    "# remove all obs variables that were only relevant to HLCA extension data (healthy + diseased dataset)\n",
    "cols_to_drop = [col for col in adata_ref.obs.columns if adata_ref.obs[col].isnull().all()]\n",
    "adata_ref.obs.drop(columns=cols_to_drop, inplace=True)\n",
    "adata_ref"
   ]
  },
  {
   "cell_type": "markdown",
   "id": "83c4119f",
   "metadata": {},
   "source": [
    "### Load and prepare query data"
   ]
  },
  {
   "cell_type": "code",
   "execution_count": null,
   "id": "79266a4a",
   "metadata": {},
   "outputs": [],
   "source": [
    "# load your query dataset\n",
    "adata_query_unprep = sc.read_h5ad(path_query_data)\n",
    "\n",
    "# verify query data is sparse matrix \n",
    "adata_query_unprep.X = sparse.csr_matrix(adata_query_unprep.X)\n",
    "\n",
    "# remove obsm and varm matrices to avoid issues downstream\n",
    "del adata_query_unprep.obsm\n",
    "del adata_query_unprep.varm"
   ]
  },
  {
   "cell_type": "markdown",
   "id": "76a3172e",
   "metadata": {},
   "source": [
    "**Check whether query dataset has raw counts or normalized (we want raw counts):**"
   ]
  },
  {
   "cell_type": "code",
   "execution_count": null,
   "id": "3aba4b12",
   "metadata": {},
   "outputs": [],
   "source": [
    "adata_query_unprep.X[:10, :30].toarray()"
   ]
  },
  {
   "cell_type": "markdown",
   "id": "da2dcbe8",
   "metadata": {},
   "source": [
    "**Check whether your reference model uses gene names or gene ids as input features.**  \n",
    "The HLCA reference model that was just downloaded uses ensembl ID, so we need to verify:  \n",
    "1.) whether the query data also uses ensembl ID   \n",
    "2.) whether it is stored in `adata_query_unprep.var.index`"
   ]
  },
  {
   "cell_type": "markdown",
   "id": "b2fb686d",
   "metadata": {},
   "source": [
    "View the features used by the reference model:"
   ]
  },
  {
   "cell_type": "code",
   "execution_count": null,
   "id": "f4c8bae5",
   "metadata": {},
   "outputs": [],
   "source": [
    "# load reference model features\n",
    "ref_model_features = pd.read_csv(os.path.join(ref_model_dir, \"var_names.csv\"), header=None)\n",
    "print(ref_model_features.head(5))"
   ]
  },
  {
   "cell_type": "code",
   "execution_count": null,
   "id": "55d2fe66",
   "metadata": {},
   "outputs": [],
   "source": [
    "# view query data input features\n",
    "adata_query_unprep.var"
   ]
  },
  {
   "cell_type": "markdown",
   "id": "a2587496",
   "metadata": {},
   "source": [
    "## If your query dataset does not use ensembl ID, you have to map the features it uses to ensembl ID\n",
    "**If the input features map your reference, you can move on to the next section!**\n",
    "\n",
    "This example maps gene names to ensembl ID"
   ]
  },
  {
   "cell_type": "code",
   "execution_count": null,
   "id": "059c3f64",
   "metadata": {},
   "outputs": [],
   "source": [
    "# set path \n",
    "path_gene_mapping_df = os.path.join(ref_model_dir, \"HLCA_reference_model_gene_order_ids_and_symbols.csv\")\n",
    "\n",
    "# download gene information from HLCA github: \n",
    "url = \"https://zenodo.org/record/7599104/files/HLCA_reference_model_gene_order_ids_and_symbols.csv\"\n",
    "gdown.download(url, path_gene_mapping_df, quiet=False)"
   ]
  },
  {
   "cell_type": "code",
   "execution_count": null,
   "id": "583ab4a8",
   "metadata": {},
   "outputs": [],
   "source": [
    "# load mapping table\n",
    "gene_id_to_gene_name_df = pd.read_csv(path_gene_mapping_df, index_col=0)\n",
    "gene_id_to_gene_name_df"
   ]
  },
  {
   "cell_type": "code",
   "execution_count": null,
   "id": "c271e4d1",
   "metadata": {},
   "outputs": [],
   "source": [
    "# store the current input feature in a new column IF it currently resides in the index: \n",
    "#adata_query_unprep.var[\"gene_names\"] = adata_query_unprep.var.index\n",
    "\n",
    "# find the column in the query data that contains gene names:\n",
    "gene_name_column_name = \"features\" ## CHANGE to match your data\n",
    "\n",
    "# map genes and see how much overlap there is btwn genes in query and genes in ref model\n",
    "n_overlap = (\n",
    "    adata_query_unprep.var[gene_name_column_name]\n",
    "    .isin(gene_id_to_gene_name_df.gene_symbol)\n",
    "    .sum()\n",
    ")\n",
    "n_genes_model = gene_id_to_gene_name_df.shape[0]\n",
    "print(\n",
    "    f\"Number of model input genes detected: {n_overlap} out of {n_genes_model} ({round(n_overlap/n_genes_model*100)}%)\"\n",
    ")"
   ]
  },
  {
   "cell_type": "code",
   "execution_count": null,
   "id": "ad435657",
   "metadata": {},
   "outputs": [],
   "source": [
    "# subset your data to genes used in the reference model\n",
    "adata_query_unprep = adata_query_unprep[:,adata_query_unprep.var[gene_name_column_name].isin(\n",
    "    gene_id_to_gene_name_df.gene_symbol),].copy()  \n",
    "\n",
    "# add gene ids for the gene names, and store in .var.index\n",
    "adata_query_unprep.var.index = adata_query_unprep.var[gene_name_column_name].map(\n",
    "    dict(zip(gene_id_to_gene_name_df.gene_symbol, gene_id_to_gene_name_df.index))\n",
    ")  \n",
    "\n",
    "# remove index name to prevent bugs later on\n",
    "adata_query_unprep.var.index.name = None\n",
    "adata_query_unprep.var[\"gene_ids\"] = adata_query_unprep.var.index\n",
    "\n",
    "# check that the mapping was successful -- the index should be ensembl ID now\n",
    "adata_query_unprep.var.head(3)"
   ]
  },
  {
   "cell_type": "markdown",
   "id": "64d88666",
   "metadata": {},
   "source": [
    "### If your query data does have the correct input features, continue here to prepare your data for scArches:"
   ]
  },
  {
   "cell_type": "code",
   "execution_count": null,
   "id": "7f8a4e55",
   "metadata": {},
   "outputs": [],
   "source": [
    "# pad missing genes in query data with zeros to have the same gene set as the reference data\n",
    "adata_query = sca.models.SCANVI.prepare_query_anndata(\n",
    "    adata=adata_query_unprep, reference_model=ref_model_dir, inplace=False\n",
    ")\n",
    "\n",
    "# set dataset to be a single batch\n",
    "adata_query.obs[\"dataset\"] = \"lung_batch\"\n",
    "\n",
    "# set scanvi_label to unlabeled\n",
    "adata_query.obs[\"scanvi_label\"] = \"unlabeled\"\n",
    "\n",
    "adata_query"
   ]
  },
  {
   "cell_type": "markdown",
   "id": "ea56f60a",
   "metadata": {},
   "source": [
    "## Perform surgery"
   ]
  },
  {
   "cell_type": "code",
   "execution_count": null,
   "id": "c2b4b05e",
   "metadata": {},
   "outputs": [],
   "source": [
    "# load reference model\n",
    "surgery_model = sca.models.SCANVI.load_query_data(\n",
    "    adata_query,\n",
    "    ref_model_dir,\n",
    "    freeze_dropout=True,\n",
    ")\n",
    "\n",
    "print(surgery_model)\n",
    "\n",
    "# view setup args\n",
    "print(surgery_model.registry_[\"setup_args\"])"
   ]
  },
  {
   "cell_type": "code",
   "execution_count": null,
   "id": "5e6b4bb2",
   "metadata": {},
   "outputs": [],
   "source": [
    "# Set training arguments\n",
    "surgery_epochs = 500\n",
    "early_stopping_kwargs_surgery = {\"early_stopping_monitor\": \"elbo_train\",\n",
    "                                 \"early_stopping_patience\": 10,\n",
    "                                 \"early_stopping_min_delta\": 0.001,\n",
    "                                 \"plan_kwargs\": {\"weight_decay\": 0.0}}\n",
    "\n",
    "# Performing surgery by training\n",
    "surgery_model.train(accelerator='cpu', devices=1, max_epochs=surgery_epochs, **early_stopping_kwargs_surgery)"
   ]
  },
  {
   "cell_type": "code",
   "execution_count": null,
   "id": "9a01bb75",
   "metadata": {},
   "outputs": [],
   "source": [
    "# either save model:\n",
    "surgery_model.save(surgery_model_dir, overwrite=True)\n",
    "\n",
    "# or load if trained already: \n",
    "surgery_model = sca.models.SCANVI.load(\n",
    "    surgery_model_dir, adata_query\n",
    ")"
   ]
  },
  {
   "cell_type": "markdown",
   "id": "5eaf52ff",
   "metadata": {},
   "source": [
    "## Latent Embedding"
   ]
  },
  {
   "cell_type": "code",
   "execution_count": null,
   "id": "16c9ce4e",
   "metadata": {},
   "outputs": [],
   "source": [
    "# Getting query latent embedding\n",
    "adata_query_latent = sc.AnnData(surgery_model.get_latent_representation(adata_query))\n",
    "adata_query_latent.obs = adata_query.obs.loc[adata_query.obs.index, :]\n",
    "\n",
    "# Creating joint embedding\n",
    "adata_query_latent.obs[\"ref_or_query\"] = \"query\"\n",
    "adata_ref.obs[\"ref_or_query\"] = \"ref\"\n",
    "combined_emb = sc.concat(\n",
    "    (adata_ref, adata_query_latent), index_unique=None, join=\"outer\"\n",
    ")  \n",
    "\n",
    "# Saving embedding\n",
    "for cat in adata_query_latent.obs.columns:\n",
    "    if isinstance(adata_query_latent.obs[cat].values, pd.Categorical):\n",
    "        pass\n",
    "    elif pd.api.types.is_float_dtype(adata_query_latent.obs[cat]):\n",
    "        pass\n",
    "    else:\n",
    "        print(f\"Setting obs column {cat} (not categorical neither float) to strings to prevent writing error.\")\n",
    "        adata_query_latent.obs[cat] = adata_query_latent.obs[cat].astype(str)"
   ]
  },
  {
   "cell_type": "code",
   "execution_count": null,
   "id": "86493856",
   "metadata": {},
   "outputs": [],
   "source": [
    "# either save embedding: \n",
    "combined_emb.write_h5ad(\"combined_embedding.h5ad\")\n",
    "\n",
    "# or load if already saved:\n",
    "combined_emb = sc.read_h5ad(\"combined_embedding.h5ad\")"
   ]
  },
  {
   "cell_type": "markdown",
   "id": "1c093bab",
   "metadata": {},
   "source": [
    "# Label Transfer"
   ]
  },
  {
   "cell_type": "code",
   "execution_count": null,
   "id": "5c08bf9b",
   "metadata": {},
   "outputs": [],
   "source": [
    "# load cell type df\n",
    "path_celltypes = os.path.join(ref_model_dir, \"HLCA_celltypes_ordered.csv\")\n",
    "url = \"https://github.com/LungCellAtlas/HLCA_reproducibility/raw/main/supporting_files/celltype_structure_and_colors/manual_anns_and_leveled_anns_ordered.csv\" # \"https://github.com/LungCellAtlas/mapping_data_to_the_HLCA/raw/main/supporting_files/HLCA_celltypes_ordered.csv\"\n",
    "gdown.download(url, path_celltypes, quiet=False)\n",
    "\n",
    "cts_ordered = pd.read_csv(path_celltypes, index_col=0).rename(\n",
    "    columns={f\"Level_{lev}\": f\"labtransf_ann_level_{lev}\" for lev in range(1, 6)}\n",
    ")\n",
    "\n",
    "cts_ordered.head(5)"
   ]
  },
  {
   "cell_type": "code",
   "execution_count": null,
   "id": "681ecff0",
   "metadata": {},
   "outputs": [],
   "source": [
    "# add annotations for all five levels to reference\n",
    "adata_ref.obs = adata_ref.obs.join(cts_ordered, on=\"ann_finest_level\")"
   ]
  },
  {
   "cell_type": "code",
   "execution_count": null,
   "id": "6e42295b",
   "metadata": {},
   "outputs": [],
   "source": [
    "# knn transformer\n",
    "knn_transformer = sca.utils.knn.weighted_knn_trainer(\n",
    "    train_adata=adata_ref,\n",
    "    train_adata_emb=\"X\",  # location of our joint embedding\n",
    "    n_neighbors=50,\n",
    ")\n",
    "\n",
    "# label transfer\n",
    "labels, uncert = sca.utils.knn.weighted_knn_transfer(\n",
    "    query_adata=adata_query_latent,\n",
    "    query_adata_emb=\"X\",  # location of our embedding, query_adata.X in this case\n",
    "    label_keys=\"labtransf_ann_level_\",  # (start of) obs column name(s) for which to transfer labels\n",
    "    knn_model=knn_transformer,\n",
    "    ref_adata_obs=adata_ref.obs,\n",
    ")"
   ]
  },
  {
   "cell_type": "code",
   "execution_count": null,
   "id": "ee97e581",
   "metadata": {},
   "outputs": [],
   "source": [
    "# saving results\n",
    "true_label_name = 'ann_finest_level' ## CHANGE\n",
    "df = pd.merge(labels, uncert, left_index=True, right_index=True, suffixes = (\"\", \"_uncert\"))\n",
    "df = pd.merge(df, adata_query_latent.obs[true_label_name], left_index=True, right_index=True)\n",
    "df.head()"
   ]
  }
 ],
 "metadata": {
  "kernelspec": {
   "display_name": "Python 3 (ipykernel)",
   "language": "python",
   "name": "python3"
  },
  "language_info": {
   "codemirror_mode": {
    "name": "ipython",
    "version": 3
   },
   "file_extension": ".py",
   "mimetype": "text/x-python",
   "name": "python",
   "nbconvert_exporter": "python",
   "pygments_lexer": "ipython3",
   "version": "3.10.12"
  }
 },
 "nbformat": 4,
 "nbformat_minor": 5
}
